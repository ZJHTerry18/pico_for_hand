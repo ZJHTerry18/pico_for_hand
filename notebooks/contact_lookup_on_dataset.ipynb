{
 "cells": [
  {
   "cell_type": "markdown",
   "metadata": {},
   "source": [
    "# Example code for looking up best matching contact sample from PICO-db\n",
    "\n",
    "In order to reconstruct interaction from a brand new image, we need paired human+object contact annotations and the corresponding object mesh. We can use the human contact vertices as a query key to find the best matching sample in the PICO-db (or any similar) dataset, and apply that to our current interaction image.\n",
    "\n",
    "First we load the human contacts from PICO-db into a dictionary, per object categories.\n",
    "\n",
    "The input/query for the looking up the closest sample is the SMPL human contact, since this can be inferred for a new image relatively easily and accurately, using e.g. [DECO](https://github.com/sha2nkt/deco).\n",
    "\n",
    "Here we define best match in terms of intersection over union (IoU) between the inferred human contact and human contact samples in the loaded lookup dataset, of course within the respective object category.\n",
    "\n",
    "We can just take the top result (contact mapping + object mesh) and apply it to the new image, or we can also consider the object crop-to-mesh match for the top-k results using a tool like [https://github.com/saidwivedi/Object_Retrieval](https://github.com/saidwivedi/Object_Retrieval) and make a joint decision based on both scores."
   ]
  },
  {
   "cell_type": "code",
   "execution_count": 38,
   "metadata": {},
   "outputs": [],
   "source": [
    "import os\n",
    "import json\n",
    "from tqdm import tqdm\n",
    "\n",
    "\n",
    "def get_human_verts_from_mapping(contact_transfer_map_path):\n",
    "    contact_mapping_json = json.load(open(contact_transfer_map_path, 'r'))\n",
    "    \n",
    "    # simplify the dictionary\n",
    "    contact_transfer_map = {}\n",
    "    for elem in contact_mapping_json['data']:\n",
    "        contact_transfer_map[elem['name']] = elem['contactPoints']\n",
    "    \n",
    "    # delete all keys that don't start with 'human'\n",
    "    keys_to_delete = [key for key in contact_transfer_map if not key.startswith('human')]\n",
    "    for key in keys_to_delete:\n",
    "        contact_transfer_map.pop(key)\n",
    "\n",
    "    # make a flat list of all human contact vertices\n",
    "    human_contact_verts = []\n",
    "    for key in contact_transfer_map:\n",
    "        human_contact_verts += contact_transfer_map[key]\n",
    "    human_contact_verts = list(set(human_contact_verts))\n",
    "    human_contact_verts = [int(x[2:]) for x in human_contact_verts]\n",
    "\n",
    "    return human_contact_verts\n",
    "\n",
    "\n",
    "def load_dataset(annotations_path):\n",
    "    if os.path.exists('picodb_human_contacts.json'):\n",
    "        with open('picodb_human_contacts.json', 'r') as f:\n",
    "            picodb_human_contacts = json.load(f)\n",
    "\n",
    "    else:\n",
    "        picodb_human_contacts = {}\n",
    "        for ann_f in tqdm(os.listdir(annotations_path)):\n",
    "            obj_category = ann_f.split('__')[0]\n",
    "            human_contact_verts = get_human_verts_from_mapping(os.path.join(annotations_path, ann_f))\n",
    "\n",
    "            if obj_category not in picodb_human_contacts:\n",
    "                picodb_human_contacts[obj_category] = []\n",
    "            picodb_human_contacts[obj_category].append((ann_f, human_contact_verts))\n",
    "\n",
    "        # save dataset\n",
    "        with open('picodb_human_contacts.json', 'w') as f:\n",
    "            json.dump(picodb_human_contacts, f)\n",
    "\n",
    "    print('Number of samples loaded:', len([item for sublist in picodb_human_contacts.values() for item in sublist]))\n",
    "    return picodb_human_contacts\n",
    "\n",
    "\n",
    "def find_closest_human_contact(picodb_human_contacts, obj_category, contact_verts, nr_results=3):\n",
    "    ious = []\n",
    "    for imgf, human_contact_verts in picodb_human_contacts[obj_category]:\n",
    "        iou = len(set(contact_verts) & set(human_contact_verts)) / len(set(contact_verts) | set(human_contact_verts))\n",
    "        ious.append((imgf, iou))\n",
    "\n",
    "    ious = sorted(ious, key=lambda x: x[1], reverse=True)\n",
    "    return ious[:nr_results]\n"
   ]
  },
  {
   "cell_type": "code",
   "execution_count": null,
   "metadata": {},
   "outputs": [
    {
     "name": "stdout",
     "output_type": "stream",
     "text": [
      "Number of samples loaded: 4123\n",
      "\n",
      "Closest human contacts:\n",
      "Found match: baseball_bat__vcoco_000000404613.json with IoU: 0.43889618922470436\n",
      "Found match: baseball_bat__hake_train2015_HICO_train2015_00005083.json with IoU: 0.31565440547476475\n",
      "Found match: baseball_bat__hake_train2015_HICO_train2015_00006027.json with IoU: 0.31276778063410454\n"
     ]
    }
   ],
   "source": [
    "# in order to reconstruct interaction from a brand new image,\n",
    "# we need paired human+object contact annotations and the corresponding object mesh\n",
    "# we can use the human contact vertices as a query key to find the best matching sample in the dataset\n",
    "# and apply that to the current image\n",
    "\n",
    "# load a contact dataset (here: picodb) for lookup\n",
    "annotations_path = '../../data/annotations'\n",
    "picodb_human_contacts = load_dataset(annotations_path)\n",
    "\n",
    "# input: SMPL human contact verts to find closest contact in the dataset for\n",
    "# can be obtained for a new image using e.g. DECO (https://github.com/sha2nkt/deco)\n",
    "current_human_contact = list(range(2000, 2700)) # example contact verts\n",
    "\n",
    "# find the closest matches (IoU) within an object category\n",
    "closest_human_contacts = find_closest_human_contact(\n",
    "    picodb_human_contacts = picodb_human_contacts,\n",
    "    obj_category = 'baseball_bat',\n",
    "    contact_verts = current_human_contact,\n",
    "    nr_results = 3\n",
    ")\n",
    "print('\\nClosest human contacts:')\n",
    "for imgf, iou in closest_human_contacts:\n",
    "    print(f'Found match: {imgf} with IoU: {iou}')\n",
    "\n",
    "# we can just take the top result (contact mapping + object mesh) and apply it to the new image\n",
    "# or we can also consider the object crop-to-mesh match for the top k results\n",
    "# using a tool like https://github.com/saidwivedi/Object_Retrieval\n",
    "# and make a joint decision based on both scores"
   ]
  }
 ],
 "metadata": {
  "kernelspec": {
   "display_name": "base",
   "language": "python",
   "name": "python3"
  },
  "language_info": {
   "codemirror_mode": {
    "name": "ipython",
    "version": 3
   },
   "file_extension": ".py",
   "mimetype": "text/x-python",
   "name": "python",
   "nbconvert_exporter": "python",
   "pygments_lexer": "ipython3",
   "version": "3.11.7"
  }
 },
 "nbformat": 4,
 "nbformat_minor": 2
}
